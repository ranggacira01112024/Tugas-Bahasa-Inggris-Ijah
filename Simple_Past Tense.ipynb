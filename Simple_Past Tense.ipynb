{
  "nbformat": 4,
  "nbformat_minor": 0,
  "metadata": {
    "colab": {
      "provenance": [],
      "authorship_tag": "ABX9TyOBUVOrDqIgqPRvdoxpLxzW",
      "include_colab_link": true
    },
    "kernelspec": {
      "name": "python3",
      "display_name": "Python 3"
    },
    "language_info": {
      "name": "python"
    },
    "widgets": {
      "application/vnd.jupyter.widget-state+json": {
        "d6e8aa1a03464128a5d451f48c8db137": {
          "model_module": "@jupyter-widgets/controls",
          "model_name": "ButtonModel",
          "model_module_version": "1.5.0",
          "state": {
            "_dom_classes": [],
            "_model_module": "@jupyter-widgets/controls",
            "_model_module_version": "1.5.0",
            "_model_name": "ButtonModel",
            "_view_count": null,
            "_view_module": "@jupyter-widgets/controls",
            "_view_module_version": "1.5.0",
            "_view_name": "ButtonView",
            "button_style": "",
            "description": "Generate Quiz Question",
            "disabled": false,
            "icon": "",
            "layout": "IPY_MODEL_8c0cb6adc1974784b7ba637dfbc72483",
            "style": "IPY_MODEL_1f30c618e34d4ada8a42f22d983d0e70",
            "tooltip": ""
          }
        },
        "8c0cb6adc1974784b7ba637dfbc72483": {
          "model_module": "@jupyter-widgets/base",
          "model_name": "LayoutModel",
          "model_module_version": "1.2.0",
          "state": {
            "_model_module": "@jupyter-widgets/base",
            "_model_module_version": "1.2.0",
            "_model_name": "LayoutModel",
            "_view_count": null,
            "_view_module": "@jupyter-widgets/base",
            "_view_module_version": "1.2.0",
            "_view_name": "LayoutView",
            "align_content": null,
            "align_items": null,
            "align_self": null,
            "border": null,
            "bottom": null,
            "display": null,
            "flex": null,
            "flex_flow": null,
            "grid_area": null,
            "grid_auto_columns": null,
            "grid_auto_flow": null,
            "grid_auto_rows": null,
            "grid_column": null,
            "grid_gap": null,
            "grid_row": null,
            "grid_template_areas": null,
            "grid_template_columns": null,
            "grid_template_rows": null,
            "height": null,
            "justify_content": null,
            "justify_items": null,
            "left": null,
            "margin": null,
            "max_height": null,
            "max_width": null,
            "min_height": null,
            "min_width": null,
            "object_fit": null,
            "object_position": null,
            "order": null,
            "overflow": null,
            "overflow_x": null,
            "overflow_y": null,
            "padding": null,
            "right": null,
            "top": null,
            "visibility": null,
            "width": null
          }
        },
        "1f30c618e34d4ada8a42f22d983d0e70": {
          "model_module": "@jupyter-widgets/controls",
          "model_name": "ButtonStyleModel",
          "model_module_version": "1.5.0",
          "state": {
            "_model_module": "@jupyter-widgets/controls",
            "_model_module_version": "1.5.0",
            "_model_name": "ButtonStyleModel",
            "_view_count": null,
            "_view_module": "@jupyter-widgets/base",
            "_view_module_version": "1.2.0",
            "_view_name": "StyleView",
            "button_color": null,
            "font_weight": ""
          }
        }
      }
    }
  },
  "cells": [
    {
      "cell_type": "markdown",
      "metadata": {
        "id": "view-in-github",
        "colab_type": "text"
      },
      "source": [
        "<a href=\"https://colab.research.google.com/github/ranggacira01112024/Tugas-Bahasa-Inggris-Ijah/blob/main/Simple_Past%C2%A0Tense.ipynb\" target=\"_parent\"><img src=\"https://colab.research.google.com/assets/colab-badge.svg\" alt=\"Open In Colab\"/></a>"
      ]
    },
    {
      "cell_type": "code",
      "source": [
        "import pandas as pd\n",
        "from IPython.display import display, HTML\n",
        "from google.colab import output\n",
        "import ipywidgets as widgets\n",
        "\n",
        "# Data for simple past tense examples\n",
        "past_tense_data = {\n",
        "    'Number': range(1, 11),\n",
        "    'Sentence': [\n",
        "        \"I ate breakfast at 8 A.M.\",\n",
        "        \"She went to the market.\",\n",
        "        \"They played soccer last week.\",\n",
        "        \"He finished his homework.\",\n",
        "        \"We visited our grandmother.\",\n",
        "        \"The dog barked at the mailman.\",\n",
        "        \"She wrote a letter.\",\n",
        "        \"They bought a new car.\",\n",
        "        \"He called his friend.\",\n",
        "        \"I watched a movie.\"\n",
        "    ]\n",
        "}\n",
        "\n",
        "# Create DataFrame\n",
        "df = pd.DataFrame(past_tense_data)\n",
        "\n",
        "# Style the DataFrame\n",
        "styled_df = df.style.set_properties(**{\n",
        "    'background-color': '#f5f5f5',\n",
        "    'color': 'black',\n",
        "    'border-color': 'black',\n",
        "    'border-style': 'solid',\n",
        "    'border-width': '1px',\n",
        "    'text-align': 'left',\n",
        "    'padding': '10px'\n",
        "}).hide(axis='index')\n",
        "\n",
        "# Create interactive quiz function\n",
        "def create_quiz():\n",
        "    random_sentence = df.sample(1)['Sentence'].values[0]\n",
        "    print(f\"Convert this sentence to present tense:\\n{random_sentence}\")\n",
        "\n",
        "# Display the data and create interactive elements\n",
        "print(\"Simple Past Tense Examples:\")\n",
        "display(styled_df)\n",
        "\n",
        "# Add quiz button\n",
        "quiz_button = widgets.Button(description=\"Generate Quiz Question\")\n",
        "quiz_button.on_click(lambda x: create_quiz())\n",
        "display(quiz_button)\n",
        "\n",
        "# Add some styling using IPython.display.HTML instead\n",
        "display(HTML(\"<style>.container { color: black; background-color: white; }</style>\"))"
      ],
      "metadata": {
        "colab": {
          "base_uri": "https://localhost:8080/",
          "height": 866,
          "referenced_widgets": [
            "d6e8aa1a03464128a5d451f48c8db137",
            "8c0cb6adc1974784b7ba637dfbc72483",
            "1f30c618e34d4ada8a42f22d983d0e70"
          ]
        },
        "id": "G0wN-5CE36yr",
        "outputId": "92be82ac-e9a0-4226-a9ed-b07ce9433dd6"
      },
      "execution_count": 7,
      "outputs": [
        {
          "output_type": "stream",
          "name": "stdout",
          "text": [
            "Simple Past Tense Examples:\n"
          ]
        },
        {
          "output_type": "display_data",
          "data": {
            "text/plain": [
              "<pandas.io.formats.style.Styler at 0x7b82bd2079d0>"
            ],
            "text/html": [
              "<style type=\"text/css\">\n",
              "#T_f72c1_row0_col0, #T_f72c1_row0_col1, #T_f72c1_row1_col0, #T_f72c1_row1_col1, #T_f72c1_row2_col0, #T_f72c1_row2_col1, #T_f72c1_row3_col0, #T_f72c1_row3_col1, #T_f72c1_row4_col0, #T_f72c1_row4_col1, #T_f72c1_row5_col0, #T_f72c1_row5_col1, #T_f72c1_row6_col0, #T_f72c1_row6_col1, #T_f72c1_row7_col0, #T_f72c1_row7_col1, #T_f72c1_row8_col0, #T_f72c1_row8_col1, #T_f72c1_row9_col0, #T_f72c1_row9_col1 {\n",
              "  background-color: #f5f5f5;\n",
              "  color: black;\n",
              "  border-color: black;\n",
              "  border-style: solid;\n",
              "  border-width: 1px;\n",
              "  text-align: left;\n",
              "  padding: 10px;\n",
              "}\n",
              "</style>\n",
              "<table id=\"T_f72c1\" class=\"dataframe\">\n",
              "  <thead>\n",
              "    <tr>\n",
              "      <th id=\"T_f72c1_level0_col0\" class=\"col_heading level0 col0\" >Number</th>\n",
              "      <th id=\"T_f72c1_level0_col1\" class=\"col_heading level0 col1\" >Sentence</th>\n",
              "    </tr>\n",
              "  </thead>\n",
              "  <tbody>\n",
              "    <tr>\n",
              "      <td id=\"T_f72c1_row0_col0\" class=\"data row0 col0\" >1</td>\n",
              "      <td id=\"T_f72c1_row0_col1\" class=\"data row0 col1\" >I ate breakfast at 8 A.M.</td>\n",
              "    </tr>\n",
              "    <tr>\n",
              "      <td id=\"T_f72c1_row1_col0\" class=\"data row1 col0\" >2</td>\n",
              "      <td id=\"T_f72c1_row1_col1\" class=\"data row1 col1\" >She went to the market.</td>\n",
              "    </tr>\n",
              "    <tr>\n",
              "      <td id=\"T_f72c1_row2_col0\" class=\"data row2 col0\" >3</td>\n",
              "      <td id=\"T_f72c1_row2_col1\" class=\"data row2 col1\" >They played soccer last week.</td>\n",
              "    </tr>\n",
              "    <tr>\n",
              "      <td id=\"T_f72c1_row3_col0\" class=\"data row3 col0\" >4</td>\n",
              "      <td id=\"T_f72c1_row3_col1\" class=\"data row3 col1\" >He finished his homework.</td>\n",
              "    </tr>\n",
              "    <tr>\n",
              "      <td id=\"T_f72c1_row4_col0\" class=\"data row4 col0\" >5</td>\n",
              "      <td id=\"T_f72c1_row4_col1\" class=\"data row4 col1\" >We visited our grandmother.</td>\n",
              "    </tr>\n",
              "    <tr>\n",
              "      <td id=\"T_f72c1_row5_col0\" class=\"data row5 col0\" >6</td>\n",
              "      <td id=\"T_f72c1_row5_col1\" class=\"data row5 col1\" >The dog barked at the mailman.</td>\n",
              "    </tr>\n",
              "    <tr>\n",
              "      <td id=\"T_f72c1_row6_col0\" class=\"data row6 col0\" >7</td>\n",
              "      <td id=\"T_f72c1_row6_col1\" class=\"data row6 col1\" >She wrote a letter.</td>\n",
              "    </tr>\n",
              "    <tr>\n",
              "      <td id=\"T_f72c1_row7_col0\" class=\"data row7 col0\" >8</td>\n",
              "      <td id=\"T_f72c1_row7_col1\" class=\"data row7 col1\" >They bought a new car.</td>\n",
              "    </tr>\n",
              "    <tr>\n",
              "      <td id=\"T_f72c1_row8_col0\" class=\"data row8 col0\" >9</td>\n",
              "      <td id=\"T_f72c1_row8_col1\" class=\"data row8 col1\" >He called his friend.</td>\n",
              "    </tr>\n",
              "    <tr>\n",
              "      <td id=\"T_f72c1_row9_col0\" class=\"data row9 col0\" >10</td>\n",
              "      <td id=\"T_f72c1_row9_col1\" class=\"data row9 col1\" >I watched a movie.</td>\n",
              "    </tr>\n",
              "  </tbody>\n",
              "</table>\n"
            ]
          },
          "metadata": {}
        },
        {
          "output_type": "display_data",
          "data": {
            "text/plain": [
              "Button(description='Generate Quiz Question', style=ButtonStyle())"
            ],
            "application/vnd.jupyter.widget-view+json": {
              "version_major": 2,
              "version_minor": 0,
              "model_id": "d6e8aa1a03464128a5d451f48c8db137"
            }
          },
          "metadata": {}
        },
        {
          "output_type": "display_data",
          "data": {
            "text/plain": [
              "<IPython.core.display.HTML object>"
            ],
            "text/html": [
              "<style>.container { color: black; background-color: white; }</style>"
            ]
          },
          "metadata": {}
        },
        {
          "output_type": "stream",
          "name": "stdout",
          "text": [
            "Convert this sentence to present tense:\n",
            "I watched a movie.\n",
            "Convert this sentence to present tense:\n",
            "The dog barked at the mailman.\n",
            "Convert this sentence to present tense:\n",
            "I ate breakfast at 8 A.M.\n",
            "Convert this sentence to present tense:\n",
            "He called his friend.\n",
            "Convert this sentence to present tense:\n",
            "He finished his homework.\n",
            "Convert this sentence to present tense:\n",
            "He called his friend.\n",
            "Convert this sentence to present tense:\n",
            "He called his friend.\n",
            "Convert this sentence to present tense:\n",
            "They bought a new car.\n",
            "Convert this sentence to present tense:\n",
            "They bought a new car.\n",
            "Convert this sentence to present tense:\n",
            "They bought a new car.\n"
          ]
        }
      ]
    }
  ]
}