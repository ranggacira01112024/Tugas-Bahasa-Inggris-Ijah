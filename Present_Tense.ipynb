{
  "nbformat": 4,
  "nbformat_minor": 0,
  "metadata": {
    "colab": {
      "provenance": [],
      "authorship_tag": "ABX9TyOPf9QdCkf3srEazyNCzwRb",
      "include_colab_link": true
    },
    "kernelspec": {
      "name": "python3",
      "display_name": "Python 3"
    },
    "language_info": {
      "name": "python"
    }
  },
  "cells": [
    {
      "cell_type": "markdown",
      "metadata": {
        "id": "view-in-github",
        "colab_type": "text"
      },
      "source": [
        "<a href=\"https://colab.research.google.com/github/ranggacira01112024/Tugas-Bahasa-Inggris-Ijah/blob/main/Present_Tense.ipynb\" target=\"_parent\"><img src=\"https://colab.research.google.com/assets/colab-badge.svg\" alt=\"Open In Colab\"/></a>"
      ]
    },
    {
      "cell_type": "code",
      "execution_count": 1,
      "metadata": {
        "colab": {
          "base_uri": "https://localhost:8080/"
        },
        "id": "wErxIiVl1d1t",
        "outputId": "34ac9356-ba32-49b9-838d-e6542be93028"
      },
      "outputs": [
        {
          "output_type": "stream",
          "name": "stdout",
          "text": [
            "Present Tense Examples:\n",
            "------------------------------\n",
            "1. I study English every morning\n",
            "2. She works at the hospital\n",
            "3. They play football on Sundays\n",
            "4. He reads books before bed\n",
            "5. We eat breakfast at 7AM\n",
            "6. The dog sleeps in the garden\n",
            "7. My mother cooks dinner\n",
            "8. The sun rises in the east\n",
            "9. Birds fly in the sky\n",
            "10. Children go to school\n",
            "\n",
            "Analysis of sentence 1:\n",
            "Full sentence: I study English every morning\n",
            "Subject: I\n",
            "Verb: study\n"
          ]
        }
      ],
      "source": [
        "# Dictionary of present tense examples\n",
        "present_tense = {\n",
        "    1: {\n",
        "        \"sentence\": \"I study English every morning\",\n",
        "        \"subject\": \"I\",\n",
        "        \"verb\": \"study\"\n",
        "    },\n",
        "    2: {\n",
        "        \"sentence\": \"She works at the hospital\",\n",
        "        \"subject\": \"She\",\n",
        "        \"verb\": \"works\"\n",
        "    },\n",
        "    3: {\n",
        "        \"sentence\": \"They play football on Sundays\",\n",
        "        \"subject\": \"They\",\n",
        "        \"verb\": \"play\"\n",
        "    },\n",
        "    4: {\n",
        "        \"sentence\": \"He reads books before bed\",\n",
        "        \"subject\": \"He\",\n",
        "        \"verb\": \"reads\"\n",
        "    },\n",
        "    5: {\n",
        "        \"sentence\": \"We eat breakfast at 7AM\",\n",
        "        \"subject\": \"We\",\n",
        "        \"verb\": \"eat\"\n",
        "    },\n",
        "    6: {\n",
        "        \"sentence\": \"The dog sleeps in the garden\",\n",
        "        \"subject\": \"The dog\",\n",
        "        \"verb\": \"sleeps\"\n",
        "    },\n",
        "    7: {\n",
        "        \"sentence\": \"My mother cooks dinner\",\n",
        "        \"subject\": \"My mother\",\n",
        "        \"verb\": \"cooks\"\n",
        "    },\n",
        "    8: {\n",
        "        \"sentence\": \"The sun rises in the east\",\n",
        "        \"subject\": \"The sun\",\n",
        "        \"verb\": \"rises\"\n",
        "    },\n",
        "    9: {\n",
        "        \"sentence\": \"Birds fly in the sky\",\n",
        "        \"subject\": \"Birds\",\n",
        "        \"verb\": \"fly\"\n",
        "    },\n",
        "    10: {\n",
        "        \"sentence\": \"Children go to school\",\n",
        "        \"subject\": \"Children\",\n",
        "        \"verb\": \"go\"\n",
        "    }\n",
        "}\n",
        "\n",
        "# Function to display all sentences\n",
        "def display_sentences():\n",
        "    print(\"Present Tense Examples:\")\n",
        "    print(\"-\" * 30)\n",
        "    for num, data in present_tense.items():\n",
        "        print(f\"{num}. {data['sentence']}\")\n",
        "\n",
        "# Function to analyze sentence\n",
        "def analyze_sentence(number):\n",
        "    if number in present_tense:\n",
        "        data = present_tense[number]\n",
        "        print(f\"\\nAnalysis of sentence {number}:\")\n",
        "        print(f\"Full sentence: {data['sentence']}\")\n",
        "        print(f\"Subject: {data['subject']}\")\n",
        "        print(f\"Verb: {data['verb']}\")\n",
        "    else:\n",
        "        print(\"Invalid sentence number\")\n",
        "\n",
        "# Main execution\n",
        "if __name__ == \"__main__\":\n",
        "    display_sentences()\n",
        "\n",
        "    # Example analysis\n",
        "    analyze_sentence(1)"
      ]
    }
  ]
}